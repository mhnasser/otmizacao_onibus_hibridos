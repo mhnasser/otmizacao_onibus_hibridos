{
 "cells": [
  {
   "cell_type": "code",
   "execution_count": 1,
   "id": "71bec17d",
   "metadata": {},
   "outputs": [],
   "source": [
    "import pandas as pd\n",
    "import numpy \n",
    "\n",
    "import gurobipy as gp\n",
    "from IPython.display import Image"
   ]
  },
  {
   "cell_type": "code",
   "execution_count": 2,
   "id": "3705b814",
   "metadata": {},
   "outputs": [],
   "source": [
    "# configs\n",
    "\n",
    "data_path = '..\\data\\dados_trajeto.csv'\n",
    "\n",
    "m = 12000\n",
    "rho = 1.2754\n",
    "Cd = 0.36\n",
    "Cr = 0.9\n",
    "Af = 6.48\n",
    "g = 9.81"
   ]
  },
  {
   "cell_type": "markdown",
   "id": "2be2081f",
   "metadata": {},
   "source": [
    "## 1.1 Função Objetivo\n",
    "\n",
    "O = (n<sub>bp</sub> * n<sub>bs</sub> * c<sub>b</sub>) * (c<sub>fc</sub> + w<sub>fc</sub>) + $\\mu$<sub>b</sub> $\\left(\\int_{t1}^{t2} Pb \\; dt\\right)$ + $\\mu$<sub>fc</sub> $\\left(\\int_{t1}^{t2} Pfc \\; dt\\right)$"
   ]
  },
  {
   "cell_type": "markdown",
   "id": "aa4aa505",
   "metadata": {},
   "source": [
    "Em que: \n",
    "\n",
    "* n<sub>bp</sub> = n° de baterias em paralelo\n",
    "* n<sub>bs</sub> = n° de baterias em série\n",
    "* c<sub>b</sub> = custo unitário da bateria \n",
    "* c<sub>fc</sub> = custo Kg de combustível\n",
    "* w<sub>fc</sub> = peso do tanque da célula de combustível\n",
    "* $\\mu$<sub>b</sub> = preço da energia elétrica em RS/kWh \n",
    "* $\\left(\\int_{t1}^{t2} Pb \\; dt\\right)$ = Energia proveniente das baterias\n",
    "* $\\mu$<sub>fc</sub> = preço do combustível em RS/kWh \n",
    "* $\\left(\\int_{t1}^{t2} Pfc \\; dt\\right)$ = Energia proveniente da célula combustível "
   ]
  },
  {
   "cell_type": "markdown",
   "id": "dc14046e",
   "metadata": {},
   "source": [
    "## 1.2 Variáveis de decisão"
   ]
  },
  {
   "cell_type": "markdown",
   "id": "d45e2a15",
   "metadata": {},
   "source": [
    "* n<sub>bp</sub>\n",
    "* n<sub>bs</sub>\n",
    "* w<sub>fc</sub>"
   ]
  },
  {
   "cell_type": "markdown",
   "id": "bbd22c8e",
   "metadata": {},
   "source": [
    "## 1.3 Parâmetros"
   ]
  },
  {
   "cell_type": "markdown",
   "id": "c14a4ddf",
   "metadata": {},
   "source": [
    "* c<sub>b</sub>\n",
    "* c<sub>fc</sub>\n",
    "* $\\mu$<sub>b</sub>\n",
    "* $\\mu$<sub>fc</sub>\n",
    "* m<sub>b</sub> = massa de cada bateria\n",
    "* Q = capacidade da bateria\n",
    "* V<sub>b</sub> = Tensão nominal\n",
    "* V<sub>max</sub> = Tensão máxima\n",
    "* I<sub>max</sub> = Saída máxima\n",
    "* P<sub>max</sub> = Potência máxima da bateria\n",
    "* P<sub>m</sub> = Potência média da bateria\n",
    "* R = Resistência interna da bateria\n",
    "* u<sub>fc</sub> = energia interna do hidrogênio ou outro combustível escolhido\n",
    "* t = tempo da Viagem\n",
    "* P<sub>d</sub> = Potência Demandada"
   ]
  },
  {
   "cell_type": "markdown",
   "id": "cedf89c1",
   "metadata": {},
   "source": [
    "P<sub>b</sub> = (n<sub>bs</sub>*V<sub>max</sub> * n<sub>bp</sub>*P<sub>max</sub>/V<sub>max</sub>  -   (n<sub>bp</sub>*P<sub>max</sub>/V<sub>max</sub>)² * n<sub>bp</sub>/n<sub>bs</sub>*R)"
   ]
  },
  {
   "cell_type": "markdown",
   "id": "3031f90b",
   "metadata": {},
   "source": [
    "P<sub>fc</sub> = w<sub>fc</sub> * u<sub>fc</sub>"
   ]
  },
  {
   "cell_type": "markdown",
   "id": "efa34891",
   "metadata": {},
   "source": [
    "## 2. Modelando a demanda de potência do veículo"
   ]
  },
  {
   "cell_type": "markdown",
   "id": "6e6f8c55",
   "metadata": {},
   "source": [
    "**Força de arrasto (Fa)**\n",
    "\n",
    "Fa(t) = 0,5.ρ.Cd.Af.(v(t))²\n",
    "\n",
    "em que:\n",
    "* ρ é a densidade do ar\n",
    "* Cd é o coeficiente de arrasto para o ônibus\n",
    "* Af é a área da superfície frontal do veículo\n",
    "* v(t) é a velocidade do veículo em função do tempo\n",
    "\n",
    "\n",
    "*(Para fins de facilitar os cálculos nesta primeira fase de implementação, será considerado uma inclinação de **0 graus** no trajeto)*\n",
    "\n",
    "**Força de resistência ao rolamento (Fr)**\n",
    "\n",
    "Fr(t) = m.g.Cr.cos(§(t))\n",
    "\n",
    "em que:\n",
    "* m é a massa do veículo\n",
    "* g é a aceleração da gravidade (9,81 m/s²)\n",
    "* Cr é o coeficiente de atrito de rolamento\n",
    "* §(t) é a inclinação do trajeto em função do tempo\n",
    "\n",
    "**Força gravitacional (Fg)**\n",
    "\n",
    "Fg(t) = m.g.Cr.sin(§(t))\n",
    "(Será nula uma vez que foi considerado um angulo de inclinação de 0 graus)\n",
    "\n",
    "**Força de aceleração (Facc)**\n",
    "\n",
    "Facc(t) = m.(dvc(t)/dt)\n",
    "\n",
    "\n",
    "A Força de tração é a soma de todas as forças citadas acima:\n",
    "\n",
    "Ftr(t) = Facc(t) + Fg(t) + Fr(t) + Fa(t)\n",
    "\n",
    "Assim, a demanda de potência pode ser dada por:\n",
    "\n",
    "Ptr(t) = Ftr(t).v(t)"
   ]
  },
  {
   "cell_type": "markdown",
   "id": "681526a3",
   "metadata": {},
   "source": [
    "#### Parâmetros:\n",
    "    \n",
    "Cd = 0,36 -> Modelo de ônibus com os cantos da face arredondados Hucho (1986) <br>\n",
    "ρ = 1,2754 kg/m³ <br>\n",
    "Fr = 0,9 -> [fonte](https://www.if.ufrgs.br/~lang/Textos/Pneus.pdf) <br>\n",
    "Af = 2,4x,2,7 = 6,48m² -> [fonte](https://www.ehow.com.br/tamanho-padrao-onibus-urbano-fatos_71396/) <br>\n",
    "m = 12000 kg -> peso média de um ônibus médio -> [fonte](https://www.diariodasleis.com.br/legislacao/federal/61150-aprova-as-especificacoes-tecnicas-de-veiculos-automotores-de-transporte-coletivo-de-passageiros-rodoviario-e-urbano-intermunicipal.html#:~:text=%C3%94nibus%20leve%3A%20aquele%20com%20peso,ou%20superior%20a%2014%2C0t.) <br>"
   ]
  },
  {
   "cell_type": "markdown",
   "id": "b27bd701",
   "metadata": {},
   "source": [
    "Usando os dados do TG do vinicius apenas como base para o teste"
   ]
  },
  {
   "cell_type": "code",
   "execution_count": 3,
   "id": "941293c5",
   "metadata": {},
   "outputs": [],
   "source": [
    "df = pd.read_csv(data_path, sep = ';')\n",
    "\n",
    "df['tempo_s'] = df['tempo_s'] - 10\n",
    "df['distancia_m'] = df['distancia_m'] - 155.42\n",
    "\n",
    "delta = df.diff()\n",
    "\n",
    "df['velocidade'] = delta['distancia_m']/delta['tempo_s']\n",
    "\n",
    "delta = df.diff()\n",
    "\n",
    "df['acc'] = abs(delta['velocidade'])/delta['tempo_s']\n",
    "df.fillna(0, inplace=True)\n",
    "\n",
    "df['Fa'] = 0.5*rho*Cd*Af*((df['velocidade'])**2)\n",
    "df['Fr'] = m*g*Cr\n",
    "df['Facc'] = m*df['acc']\n",
    "df['Ftr'] = df['Fa'] + df['Fr'] + df['Facc']\n",
    "df['pot'] = (df['Ftr']*df['velocidade'])/1000"
   ]
  },
  {
   "cell_type": "code",
   "execution_count": 4,
   "id": "d5d7298a",
   "metadata": {},
   "outputs": [
    {
     "data": {
      "text/html": [
       "<div>\n",
       "<style scoped>\n",
       "    .dataframe tbody tr th:only-of-type {\n",
       "        vertical-align: middle;\n",
       "    }\n",
       "\n",
       "    .dataframe tbody tr th {\n",
       "        vertical-align: top;\n",
       "    }\n",
       "\n",
       "    .dataframe thead th {\n",
       "        text-align: right;\n",
       "    }\n",
       "</style>\n",
       "<table border=\"1\" class=\"dataframe\">\n",
       "  <thead>\n",
       "    <tr style=\"text-align: right;\">\n",
       "      <th></th>\n",
       "      <th>tempo_s</th>\n",
       "      <th>distancia_m</th>\n",
       "      <th>velocidade</th>\n",
       "      <th>acc</th>\n",
       "      <th>Fa</th>\n",
       "      <th>Fr</th>\n",
       "      <th>Facc</th>\n",
       "      <th>Ftr</th>\n",
       "      <th>pot</th>\n",
       "    </tr>\n",
       "  </thead>\n",
       "  <tbody>\n",
       "    <tr>\n",
       "      <th>0</th>\n",
       "      <td>0</td>\n",
       "      <td>0.00</td>\n",
       "      <td>0.00</td>\n",
       "      <td>0.000000e+00</td>\n",
       "      <td>0.000000</td>\n",
       "      <td>105948.0</td>\n",
       "      <td>0.000000e+00</td>\n",
       "      <td>105948.000000</td>\n",
       "      <td>0.000000</td>\n",
       "    </tr>\n",
       "    <tr>\n",
       "      <th>1</th>\n",
       "      <td>1</td>\n",
       "      <td>11.95</td>\n",
       "      <td>11.95</td>\n",
       "      <td>0.000000e+00</td>\n",
       "      <td>212.436792</td>\n",
       "      <td>105948.0</td>\n",
       "      <td>0.000000e+00</td>\n",
       "      <td>106160.436792</td>\n",
       "      <td>1268.617220</td>\n",
       "    </tr>\n",
       "    <tr>\n",
       "      <th>2</th>\n",
       "      <td>2</td>\n",
       "      <td>23.91</td>\n",
       "      <td>11.96</td>\n",
       "      <td>1.000000e-02</td>\n",
       "      <td>212.792483</td>\n",
       "      <td>105948.0</td>\n",
       "      <td>1.200000e+02</td>\n",
       "      <td>106280.792483</td>\n",
       "      <td>1271.118278</td>\n",
       "    </tr>\n",
       "    <tr>\n",
       "      <th>3</th>\n",
       "      <td>3</td>\n",
       "      <td>35.86</td>\n",
       "      <td>11.95</td>\n",
       "      <td>1.000000e-02</td>\n",
       "      <td>212.436792</td>\n",
       "      <td>105948.0</td>\n",
       "      <td>1.200000e+02</td>\n",
       "      <td>106280.436792</td>\n",
       "      <td>1270.051220</td>\n",
       "    </tr>\n",
       "    <tr>\n",
       "      <th>4</th>\n",
       "      <td>4</td>\n",
       "      <td>47.82</td>\n",
       "      <td>11.96</td>\n",
       "      <td>1.000000e-02</td>\n",
       "      <td>212.792483</td>\n",
       "      <td>105948.0</td>\n",
       "      <td>1.200000e+02</td>\n",
       "      <td>106280.792483</td>\n",
       "      <td>1271.118278</td>\n",
       "    </tr>\n",
       "    <tr>\n",
       "      <th>...</th>\n",
       "      <td>...</td>\n",
       "      <td>...</td>\n",
       "      <td>...</td>\n",
       "      <td>...</td>\n",
       "      <td>...</td>\n",
       "      <td>...</td>\n",
       "      <td>...</td>\n",
       "      <td>...</td>\n",
       "      <td>...</td>\n",
       "    </tr>\n",
       "    <tr>\n",
       "      <th>1094</th>\n",
       "      <td>1094</td>\n",
       "      <td>5946.14</td>\n",
       "      <td>11.87</td>\n",
       "      <td>1.000000e-02</td>\n",
       "      <td>209.601971</td>\n",
       "      <td>105948.0</td>\n",
       "      <td>1.200000e+02</td>\n",
       "      <td>106277.601971</td>\n",
       "      <td>1261.515135</td>\n",
       "    </tr>\n",
       "    <tr>\n",
       "      <th>1095</th>\n",
       "      <td>1095</td>\n",
       "      <td>5958.03</td>\n",
       "      <td>11.89</td>\n",
       "      <td>2.000000e-02</td>\n",
       "      <td>210.308891</td>\n",
       "      <td>105948.0</td>\n",
       "      <td>2.400000e+02</td>\n",
       "      <td>106398.308891</td>\n",
       "      <td>1265.075893</td>\n",
       "    </tr>\n",
       "    <tr>\n",
       "      <th>1096</th>\n",
       "      <td>1096</td>\n",
       "      <td>5969.92</td>\n",
       "      <td>11.89</td>\n",
       "      <td>9.094947e-13</td>\n",
       "      <td>210.308891</td>\n",
       "      <td>105948.0</td>\n",
       "      <td>1.091394e-08</td>\n",
       "      <td>106158.308891</td>\n",
       "      <td>1262.222293</td>\n",
       "    </tr>\n",
       "    <tr>\n",
       "      <th>1097</th>\n",
       "      <td>1097</td>\n",
       "      <td>5981.83</td>\n",
       "      <td>11.91</td>\n",
       "      <td>2.000000e-02</td>\n",
       "      <td>211.017001</td>\n",
       "      <td>105948.0</td>\n",
       "      <td>2.400000e+02</td>\n",
       "      <td>106399.017001</td>\n",
       "      <td>1267.212292</td>\n",
       "    </tr>\n",
       "    <tr>\n",
       "      <th>1098</th>\n",
       "      <td>1098</td>\n",
       "      <td>5993.74</td>\n",
       "      <td>11.91</td>\n",
       "      <td>0.000000e+00</td>\n",
       "      <td>211.017001</td>\n",
       "      <td>105948.0</td>\n",
       "      <td>0.000000e+00</td>\n",
       "      <td>106159.017001</td>\n",
       "      <td>1264.353892</td>\n",
       "    </tr>\n",
       "  </tbody>\n",
       "</table>\n",
       "<p>1099 rows × 9 columns</p>\n",
       "</div>"
      ],
      "text/plain": [
       "      tempo_s  distancia_m  velocidade           acc          Fa        Fr  \\\n",
       "0           0         0.00        0.00  0.000000e+00    0.000000  105948.0   \n",
       "1           1        11.95       11.95  0.000000e+00  212.436792  105948.0   \n",
       "2           2        23.91       11.96  1.000000e-02  212.792483  105948.0   \n",
       "3           3        35.86       11.95  1.000000e-02  212.436792  105948.0   \n",
       "4           4        47.82       11.96  1.000000e-02  212.792483  105948.0   \n",
       "...       ...          ...         ...           ...         ...       ...   \n",
       "1094     1094      5946.14       11.87  1.000000e-02  209.601971  105948.0   \n",
       "1095     1095      5958.03       11.89  2.000000e-02  210.308891  105948.0   \n",
       "1096     1096      5969.92       11.89  9.094947e-13  210.308891  105948.0   \n",
       "1097     1097      5981.83       11.91  2.000000e-02  211.017001  105948.0   \n",
       "1098     1098      5993.74       11.91  0.000000e+00  211.017001  105948.0   \n",
       "\n",
       "              Facc            Ftr          pot  \n",
       "0     0.000000e+00  105948.000000     0.000000  \n",
       "1     0.000000e+00  106160.436792  1268.617220  \n",
       "2     1.200000e+02  106280.792483  1271.118278  \n",
       "3     1.200000e+02  106280.436792  1270.051220  \n",
       "4     1.200000e+02  106280.792483  1271.118278  \n",
       "...            ...            ...          ...  \n",
       "1094  1.200000e+02  106277.601971  1261.515135  \n",
       "1095  2.400000e+02  106398.308891  1265.075893  \n",
       "1096  1.091394e-08  106158.308891  1262.222293  \n",
       "1097  2.400000e+02  106399.017001  1267.212292  \n",
       "1098  0.000000e+00  106159.017001  1264.353892  \n",
       "\n",
       "[1099 rows x 9 columns]"
      ]
     },
     "execution_count": 4,
     "metadata": {},
     "output_type": "execute_result"
    }
   ],
   "source": [
    "df"
   ]
  },
  {
   "cell_type": "code",
   "execution_count": 5,
   "id": "caa214b0",
   "metadata": {},
   "outputs": [
    {
     "data": {
      "text/plain": [
       "665641.6809982802"
      ]
     },
     "execution_count": 5,
     "metadata": {},
     "output_type": "execute_result"
    }
   ],
   "source": [
    "Pot_demandada = df['pot'].sum(); Pot_demandada"
   ]
  },
  {
   "cell_type": "code",
   "execution_count": 6,
   "id": "7f769adf",
   "metadata": {},
   "outputs": [],
   "source": [
    "t = 1098"
   ]
  },
  {
   "cell_type": "markdown",
   "id": "e6615f98",
   "metadata": {},
   "source": [
    "## 3. Modelando o problema "
   ]
  },
  {
   "cell_type": "code",
   "execution_count": 7,
   "id": "da02fe17",
   "metadata": {},
   "outputs": [
    {
     "name": "stdout",
     "output_type": "stream",
     "text": [
      "Set parameter Username\n",
      "Academic license - for non-commercial use only - expires 2022-06-20\n"
     ]
    }
   ],
   "source": [
    "# Definindo o problema\n",
    "modelo = gp.Model('Otimizacao')"
   ]
  },
  {
   "cell_type": "code",
   "execution_count": 21,
   "id": "3909ed58",
   "metadata": {},
   "outputs": [],
   "source": [
    "# Definindo as variáveis de decisão\n",
    "Ns = modelo.addVar(vtype= gp.GRB.BINARY, name=\"Ns\")\n",
    "Np = 1 #modelo.addVar(vtype= gp.GRB.INTEGER)\n",
    "Wfc = 2 #modelo.addVar(vtype= gp.GRB.INTEGER)"
   ]
  },
  {
   "cell_type": "code",
   "execution_count": 22,
   "id": "547aa4ef",
   "metadata": {},
   "outputs": [
    {
     "ename": "TypeError",
     "evalue": "setMObjective() takes at least 4 positional arguments (2 given)",
     "output_type": "error",
     "traceback": [
      "\u001b[1;31m---------------------------------------------------------------------------\u001b[0m",
      "\u001b[1;31mTypeError\u001b[0m                                 Traceback (most recent call last)",
      "\u001b[1;32m<ipython-input-22-45ad18a10587>\u001b[0m in \u001b[0;36m<module>\u001b[1;34m\u001b[0m\n\u001b[0;32m      1\u001b[0m \u001b[1;31m# Criando função objetivo\u001b[0m\u001b[1;33m\u001b[0m\u001b[1;33m\u001b[0m\u001b[1;33m\u001b[0m\u001b[0m\n\u001b[1;32m----> 2\u001b[1;33m \u001b[0mmodelo\u001b[0m\u001b[1;33m.\u001b[0m\u001b[0msetMObjective\u001b[0m\u001b[1;33m(\u001b[0m\u001b[0mNs\u001b[0m\u001b[1;33m*\u001b[0m\u001b[0mNp\u001b[0m\u001b[1;33m*\u001b[0m\u001b[1;36m1089.99\u001b[0m \u001b[1;33m+\u001b[0m \u001b[1;36m20\u001b[0m\u001b[1;33m*\u001b[0m\u001b[0mWfc\u001b[0m\u001b[1;33m,\u001b[0m \u001b[0msense\u001b[0m\u001b[1;33m=\u001b[0m\u001b[0mgp\u001b[0m\u001b[1;33m.\u001b[0m\u001b[0mGRB\u001b[0m\u001b[1;33m.\u001b[0m\u001b[0mMINIMIZE\u001b[0m\u001b[1;33m)\u001b[0m\u001b[1;33m\u001b[0m\u001b[1;33m\u001b[0m\u001b[0m\n\u001b[0m",
      "\u001b[1;32msrc\\gurobipy\\model.pxi\u001b[0m in \u001b[0;36mgurobipy.Model.setMObjective\u001b[1;34m()\u001b[0m\n",
      "\u001b[1;31mTypeError\u001b[0m: setMObjective() takes at least 4 positional arguments (2 given)"
     ]
    }
   ],
   "source": [
    "# Criando função objetivo\n",
    "modelo.setMObjective(Ns*Np*1089.99 + 20*Wfc, sense=gp.GRB.MINIMIZE)"
   ]
  },
  {
   "cell_type": "code",
   "execution_count": 17,
   "id": "2bc7764b",
   "metadata": {},
   "outputs": [
    {
     "ename": "TypeError",
     "evalue": "setMObjective() takes at least 4 positional arguments (2 given)",
     "output_type": "error",
     "traceback": [
      "\u001b[1;31m---------------------------------------------------------------------------\u001b[0m",
      "\u001b[1;31mTypeError\u001b[0m                                 Traceback (most recent call last)",
      "\u001b[1;32m<ipython-input-17-86c7ec33b335>\u001b[0m in \u001b[0;36m<module>\u001b[1;34m\u001b[0m\n\u001b[0;32m      1\u001b[0m \u001b[1;31m# Criando função objetivo\u001b[0m\u001b[1;33m\u001b[0m\u001b[1;33m\u001b[0m\u001b[1;33m\u001b[0m\u001b[0m\n\u001b[1;32m----> 2\u001b[1;33m modelo.setMObjective((Ns*Np*1089.99) +  \n\u001b[0m\u001b[0;32m      3\u001b[0m                      \u001b[1;33m(\u001b[0m\u001b[1;36m20\u001b[0m\u001b[1;33m*\u001b[0m\u001b[0mWfc\u001b[0m\u001b[1;33m)\u001b[0m \u001b[1;33m+\u001b[0m\u001b[1;33m\u001b[0m\u001b[1;33m\u001b[0m\u001b[0m\n\u001b[0;32m      4\u001b[0m                      \u001b[1;36m0.92\u001b[0m\u001b[1;33m*\u001b[0m\u001b[1;33m(\u001b[0m\u001b[1;33m(\u001b[0m\u001b[0mNs\u001b[0m\u001b[1;33m*\u001b[0m\u001b[1;36m12\u001b[0m\u001b[1;33m)\u001b[0m\u001b[1;33m*\u001b[0m\u001b[1;33m(\u001b[0m\u001b[0mNp\u001b[0m\u001b[1;33m*\u001b[0m\u001b[1;36m15\u001b[0m\u001b[1;33m)\u001b[0m \u001b[1;33m-\u001b[0m \u001b[1;33m(\u001b[0m\u001b[1;33m(\u001b[0m\u001b[0mNp\u001b[0m\u001b[1;33m*\u001b[0m\u001b[1;36m15\u001b[0m\u001b[1;33m)\u001b[0m\u001b[1;33m**\u001b[0m\u001b[1;36m2\u001b[0m\u001b[1;33m)\u001b[0m\u001b[1;33m*\u001b[0m\u001b[0mNs\u001b[0m\u001b[1;33m/\u001b[0m\u001b[0mNp\u001b[0m\u001b[1;33m*\u001b[0m\u001b[1;36m0.8\u001b[0m\u001b[1;33m)\u001b[0m\u001b[1;33m*\u001b[0m\u001b[1;36m1098\u001b[0m \u001b[1;33m+\u001b[0m\u001b[1;33m\u001b[0m\u001b[1;33m\u001b[0m\u001b[0m\n\u001b[0;32m      5\u001b[0m                      \u001b[1;36m0.92\u001b[0m\u001b[1;33m*\u001b[0m\u001b[1;33m(\u001b[0m\u001b[1;36m80\u001b[0m\u001b[1;33m*\u001b[0m\u001b[0mWfc\u001b[0m\u001b[1;33m)\u001b[0m\u001b[1;33m*\u001b[0m\u001b[1;36m1098\u001b[0m\u001b[1;33m,\u001b[0m\u001b[1;33m\u001b[0m\u001b[1;33m\u001b[0m\u001b[0m\n",
      "\u001b[1;32msrc\\gurobipy\\model.pxi\u001b[0m in \u001b[0;36mgurobipy.Model.setMObjective\u001b[1;34m()\u001b[0m\n",
      "\u001b[1;31mTypeError\u001b[0m: setMObjective() takes at least 4 positional arguments (2 given)"
     ]
    }
   ],
   "source": [
    "# Criando função objetivo\n",
    "modelo.setMObjective((Ns*Np*1089.99) +  \n",
    "                     (20*Wfc) + \n",
    "                     0.92*((Ns*12)*(Np*15) - ((Np*15)**2)*Ns/Np*0.8)*1098 + \n",
    "                     0.92*(80*Wfc)*1098, \n",
    "                     sense=gp.GRB.MINIMIZE)"
   ]
  },
  {
   "cell_type": "markdown",
   "id": "2095183e",
   "metadata": {},
   "source": [
    "Modificar o problema para uma abordagem mais simples levando em conta a modelagem do problema da mochila.\n",
    "o mais rápido possível."
   ]
  }
 ],
 "metadata": {
  "kernelspec": {
   "display_name": "Python 3",
   "language": "python",
   "name": "python3"
  },
  "language_info": {
   "codemirror_mode": {
    "name": "ipython",
    "version": 3
   },
   "file_extension": ".py",
   "mimetype": "text/x-python",
   "name": "python",
   "nbconvert_exporter": "python",
   "pygments_lexer": "ipython3",
   "version": "3.8.8"
  }
 },
 "nbformat": 4,
 "nbformat_minor": 5
}
