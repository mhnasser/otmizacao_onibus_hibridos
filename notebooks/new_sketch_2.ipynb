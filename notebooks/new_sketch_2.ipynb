{
 "cells": [
  {
   "cell_type": "code",
   "execution_count": 1,
   "id": "7140e270",
   "metadata": {},
   "outputs": [],
   "source": [
    "import pandas as pd\n",
    "import pyomo\n",
    "import pulp\n",
    "from pulp import *\n",
    "from pyutilib.services import register_executable, registered_executable\n",
    "register_executable(name='glpsol')"
   ]
  },
  {
   "cell_type": "code",
   "execution_count": 2,
   "id": "4cd67d7a",
   "metadata": {},
   "outputs": [],
   "source": [
    "# configs\n",
    "\n",
    "data_path = '..\\data\\dados_trajeto.csv'\n",
    "\n",
    "m = 12000\n",
    "rho = 1.2754\n",
    "Cd = 0.36\n",
    "Cr = 0.9\n",
    "Af = 6.48\n",
    "g = 9.81\n",
    "Cfc = 2\n",
    "Cbt = 0.92"
   ]
  },
  {
   "cell_type": "markdown",
   "id": "26c2e549",
   "metadata": {},
   "source": [
    "## 1.1 Função Objetivo\n",
    "\n",
    "O = min$\\sum_{i=1}^{N}$c<sub>fc</sub>*P<sub>fc</sub>(t<sub>i</sub>) + c<sub>b</sub>*P<sub>b</sub>(t<sub>i</sub>)"
   ]
  },
  {
   "cell_type": "markdown",
   "id": "01ec7fc1",
   "metadata": {},
   "source": [
    "Em que: <br> \n",
    "\n",
    "P<sub>fc</sub> = Potência fornecida pela célula combustível <br>\n",
    "c<sub>fc</sub> = custo de operação RS/potencia da célula combustível <br>\n",
    "P<sub>b</sub> = Potência fornecida pela bateria <br>\n",
    "c<sub>b</sub> = custo de operação RS/potencia da bateria <br>"
   ]
  },
  {
   "cell_type": "markdown",
   "id": "b548d0e8",
   "metadata": {},
   "source": [
    "## 1.2 Variáveis de decisão"
   ]
  },
  {
   "cell_type": "markdown",
   "id": "3f93ca8a",
   "metadata": {},
   "source": [
    "- P<sub>fc</sub>(t<sub>i</sub>)\n",
    "- P<sub>b</sub>(t<sub>i</sub>)"
   ]
  },
  {
   "cell_type": "markdown",
   "id": "45b00167",
   "metadata": {},
   "source": [
    "## 1.3 Parâmetros"
   ]
  },
  {
   "cell_type": "markdown",
   "id": "226915da",
   "metadata": {},
   "source": [
    "* c<sub>b</sub>\n",
    "* c<sub>fc</sub>\n",
    "* t = tempo da Viagem\n",
    "* P<sub>d</sub> = Potência Demandada"
   ]
  },
  {
   "cell_type": "markdown",
   "id": "757beee0",
   "metadata": {},
   "source": [
    "## 1.4 Restrições"
   ]
  },
  {
   "cell_type": "markdown",
   "id": "2446e7ea",
   "metadata": {},
   "source": [
    "P<sub>fc</sub>*(t) + P<sub>b</sub>*(t) = Ptr(t) <br>"
   ]
  },
  {
   "cell_type": "markdown",
   "id": "d7d8cf24",
   "metadata": {},
   "source": [
    "## 2. Modelando a demanda de potência do veículo"
   ]
  },
  {
   "cell_type": "markdown",
   "id": "dc871834",
   "metadata": {},
   "source": [
    "**Força de arrasto (Fa)**\n",
    "\n",
    "Fa(t) = 0,5.ρ.Cd.Af.(v(t))²\n",
    "\n",
    "em que:\n",
    "* ρ é a densidade do ar\n",
    "* Cd é o coeficiente de arrasto para o ônibus\n",
    "* Af é a área da superfície frontal do veículo\n",
    "* v(t) é a velocidade do veículo em função do tempo\n",
    "\n",
    "\n",
    "*(Para fins de facilitar os cálculos nesta primeira fase de implementação, será considerado uma inclinação de **0 graus** no trajeto)*\n",
    "\n",
    "**Força de resistência ao rolamento (Fr)**\n",
    "\n",
    "Fr(t) = (m+m<sub>b</sub>+m<sub>fc</sub>).g.Cr.cos(§(t))\n",
    "\n",
    "em que:\n",
    "* m é a massa do veículo\n",
    "* m<sub>b</sub> é a massa da bateria\n",
    "* m<sub>fc</sub> é a massa da célula combustível\n",
    "* g é a aceleração da gravidade (9,81 m/s²)\n",
    "* Cr é o coeficiente de atrito de rolamento\n",
    "* §(t) é a inclinação do trajeto em função do tempo\n",
    "\n",
    "**Força gravitacional (Fg)**\n",
    "\n",
    "Fg(t) = (m+m<sub>b</sub>+m<sub>fc</sub>).g.Cr.sin(§(t))\n",
    "(Será nula uma vez que foi considerado um angulo de inclinação de 0 graus)\n",
    "\n",
    "**Força de aceleração (Facc)**\n",
    "\n",
    "Facc(t) = (m+m<sub>b</sub>+m<sub>fc</sub>).(dvc(t)/dt)\n",
    "\n",
    "\n",
    "A Força de tração é a soma de todas as forças citadas acima:\n",
    "\n",
    "Ftr(t) = Facc(t) + Fg(t) + Fr(t) + Fa(t)\n",
    "\n",
    "Assim, a demanda de potência pode ser dada por:\n",
    "\n",
    "Ptr(t) = Ftr(t).v(t)"
   ]
  },
  {
   "cell_type": "markdown",
   "id": "c07d4a91",
   "metadata": {},
   "source": [
    "Usando os dados do TG do vinicius apenas como base para o teste"
   ]
  },
  {
   "cell_type": "markdown",
   "id": "e55cba55",
   "metadata": {},
   "source": [
    "## 3. Otimização"
   ]
  },
  {
   "cell_type": "markdown",
   "id": "33cd7596",
   "metadata": {},
   "source": [
    "### 3.1 Carregando os dados"
   ]
  },
  {
   "cell_type": "code",
   "execution_count": 3,
   "id": "60e9f420",
   "metadata": {},
   "outputs": [],
   "source": [
    "df = pd.read_csv(data_path, sep = ';')\n",
    "\n",
    "df['tempo_s'] = df['tempo_s'] - 10\n",
    "df['distancia_m'] = df['distancia_m'] - 155.42\n",
    "\n",
    "delta = df.diff()\n",
    "\n",
    "df['velocidade'] = delta['distancia_m']/delta['tempo_s']\n",
    "\n",
    "delta = df.diff()\n",
    "\n",
    "df['acc'] = abs(delta['velocidade'])/delta['tempo_s']\n",
    "df.fillna(0, inplace=True)\n",
    "\n",
    "df['Fa'] = 0.5*rho*Cd*Af*((df['velocidade'])**2)\n",
    "df['Fr'] = m*g*Cr\n",
    "df['Facc'] = m*df['acc']\n",
    "df['Ftr'] = df['Fa'] + df['Fr'] + df['Facc']\n",
    "df['pot'] = (df['Ftr']*df['velocidade'])/1000"
   ]
  },
  {
   "cell_type": "code",
   "execution_count": 4,
   "id": "a3d076c6",
   "metadata": {},
   "outputs": [
    {
     "data": {
      "text/html": [
       "<div>\n",
       "<style scoped>\n",
       "    .dataframe tbody tr th:only-of-type {\n",
       "        vertical-align: middle;\n",
       "    }\n",
       "\n",
       "    .dataframe tbody tr th {\n",
       "        vertical-align: top;\n",
       "    }\n",
       "\n",
       "    .dataframe thead th {\n",
       "        text-align: right;\n",
       "    }\n",
       "</style>\n",
       "<table border=\"1\" class=\"dataframe\">\n",
       "  <thead>\n",
       "    <tr style=\"text-align: right;\">\n",
       "      <th></th>\n",
       "      <th>tempo_s</th>\n",
       "      <th>distancia_m</th>\n",
       "      <th>velocidade</th>\n",
       "      <th>acc</th>\n",
       "      <th>Fa</th>\n",
       "      <th>Fr</th>\n",
       "      <th>Facc</th>\n",
       "      <th>Ftr</th>\n",
       "      <th>pot</th>\n",
       "    </tr>\n",
       "  </thead>\n",
       "  <tbody>\n",
       "    <tr>\n",
       "      <th>0</th>\n",
       "      <td>0</td>\n",
       "      <td>0.00</td>\n",
       "      <td>0.00</td>\n",
       "      <td>0.000000e+00</td>\n",
       "      <td>0.000000</td>\n",
       "      <td>105948.0</td>\n",
       "      <td>0.000000e+00</td>\n",
       "      <td>105948.000000</td>\n",
       "      <td>0.000000</td>\n",
       "    </tr>\n",
       "    <tr>\n",
       "      <th>1</th>\n",
       "      <td>1</td>\n",
       "      <td>11.95</td>\n",
       "      <td>11.95</td>\n",
       "      <td>0.000000e+00</td>\n",
       "      <td>212.436792</td>\n",
       "      <td>105948.0</td>\n",
       "      <td>0.000000e+00</td>\n",
       "      <td>106160.436792</td>\n",
       "      <td>1268.617220</td>\n",
       "    </tr>\n",
       "    <tr>\n",
       "      <th>2</th>\n",
       "      <td>2</td>\n",
       "      <td>23.91</td>\n",
       "      <td>11.96</td>\n",
       "      <td>1.000000e-02</td>\n",
       "      <td>212.792483</td>\n",
       "      <td>105948.0</td>\n",
       "      <td>1.200000e+02</td>\n",
       "      <td>106280.792483</td>\n",
       "      <td>1271.118278</td>\n",
       "    </tr>\n",
       "    <tr>\n",
       "      <th>3</th>\n",
       "      <td>3</td>\n",
       "      <td>35.86</td>\n",
       "      <td>11.95</td>\n",
       "      <td>1.000000e-02</td>\n",
       "      <td>212.436792</td>\n",
       "      <td>105948.0</td>\n",
       "      <td>1.200000e+02</td>\n",
       "      <td>106280.436792</td>\n",
       "      <td>1270.051220</td>\n",
       "    </tr>\n",
       "    <tr>\n",
       "      <th>4</th>\n",
       "      <td>4</td>\n",
       "      <td>47.82</td>\n",
       "      <td>11.96</td>\n",
       "      <td>1.000000e-02</td>\n",
       "      <td>212.792483</td>\n",
       "      <td>105948.0</td>\n",
       "      <td>1.200000e+02</td>\n",
       "      <td>106280.792483</td>\n",
       "      <td>1271.118278</td>\n",
       "    </tr>\n",
       "    <tr>\n",
       "      <th>...</th>\n",
       "      <td>...</td>\n",
       "      <td>...</td>\n",
       "      <td>...</td>\n",
       "      <td>...</td>\n",
       "      <td>...</td>\n",
       "      <td>...</td>\n",
       "      <td>...</td>\n",
       "      <td>...</td>\n",
       "      <td>...</td>\n",
       "    </tr>\n",
       "    <tr>\n",
       "      <th>1094</th>\n",
       "      <td>1094</td>\n",
       "      <td>5946.14</td>\n",
       "      <td>11.87</td>\n",
       "      <td>1.000000e-02</td>\n",
       "      <td>209.601971</td>\n",
       "      <td>105948.0</td>\n",
       "      <td>1.200000e+02</td>\n",
       "      <td>106277.601971</td>\n",
       "      <td>1261.515135</td>\n",
       "    </tr>\n",
       "    <tr>\n",
       "      <th>1095</th>\n",
       "      <td>1095</td>\n",
       "      <td>5958.03</td>\n",
       "      <td>11.89</td>\n",
       "      <td>2.000000e-02</td>\n",
       "      <td>210.308891</td>\n",
       "      <td>105948.0</td>\n",
       "      <td>2.400000e+02</td>\n",
       "      <td>106398.308891</td>\n",
       "      <td>1265.075893</td>\n",
       "    </tr>\n",
       "    <tr>\n",
       "      <th>1096</th>\n",
       "      <td>1096</td>\n",
       "      <td>5969.92</td>\n",
       "      <td>11.89</td>\n",
       "      <td>9.094947e-13</td>\n",
       "      <td>210.308891</td>\n",
       "      <td>105948.0</td>\n",
       "      <td>1.091394e-08</td>\n",
       "      <td>106158.308891</td>\n",
       "      <td>1262.222293</td>\n",
       "    </tr>\n",
       "    <tr>\n",
       "      <th>1097</th>\n",
       "      <td>1097</td>\n",
       "      <td>5981.83</td>\n",
       "      <td>11.91</td>\n",
       "      <td>2.000000e-02</td>\n",
       "      <td>211.017001</td>\n",
       "      <td>105948.0</td>\n",
       "      <td>2.400000e+02</td>\n",
       "      <td>106399.017001</td>\n",
       "      <td>1267.212292</td>\n",
       "    </tr>\n",
       "    <tr>\n",
       "      <th>1098</th>\n",
       "      <td>1098</td>\n",
       "      <td>5993.74</td>\n",
       "      <td>11.91</td>\n",
       "      <td>0.000000e+00</td>\n",
       "      <td>211.017001</td>\n",
       "      <td>105948.0</td>\n",
       "      <td>0.000000e+00</td>\n",
       "      <td>106159.017001</td>\n",
       "      <td>1264.353892</td>\n",
       "    </tr>\n",
       "  </tbody>\n",
       "</table>\n",
       "<p>1099 rows × 9 columns</p>\n",
       "</div>"
      ],
      "text/plain": [
       "      tempo_s  distancia_m  velocidade           acc          Fa        Fr  \\\n",
       "0           0         0.00        0.00  0.000000e+00    0.000000  105948.0   \n",
       "1           1        11.95       11.95  0.000000e+00  212.436792  105948.0   \n",
       "2           2        23.91       11.96  1.000000e-02  212.792483  105948.0   \n",
       "3           3        35.86       11.95  1.000000e-02  212.436792  105948.0   \n",
       "4           4        47.82       11.96  1.000000e-02  212.792483  105948.0   \n",
       "...       ...          ...         ...           ...         ...       ...   \n",
       "1094     1094      5946.14       11.87  1.000000e-02  209.601971  105948.0   \n",
       "1095     1095      5958.03       11.89  2.000000e-02  210.308891  105948.0   \n",
       "1096     1096      5969.92       11.89  9.094947e-13  210.308891  105948.0   \n",
       "1097     1097      5981.83       11.91  2.000000e-02  211.017001  105948.0   \n",
       "1098     1098      5993.74       11.91  0.000000e+00  211.017001  105948.0   \n",
       "\n",
       "              Facc            Ftr          pot  \n",
       "0     0.000000e+00  105948.000000     0.000000  \n",
       "1     0.000000e+00  106160.436792  1268.617220  \n",
       "2     1.200000e+02  106280.792483  1271.118278  \n",
       "3     1.200000e+02  106280.436792  1270.051220  \n",
       "4     1.200000e+02  106280.792483  1271.118278  \n",
       "...            ...            ...          ...  \n",
       "1094  1.200000e+02  106277.601971  1261.515135  \n",
       "1095  2.400000e+02  106398.308891  1265.075893  \n",
       "1096  1.091394e-08  106158.308891  1262.222293  \n",
       "1097  2.400000e+02  106399.017001  1267.212292  \n",
       "1098  0.000000e+00  106159.017001  1264.353892  \n",
       "\n",
       "[1099 rows x 9 columns]"
      ]
     },
     "execution_count": 4,
     "metadata": {},
     "output_type": "execute_result"
    }
   ],
   "source": [
    "df"
   ]
  },
  {
   "cell_type": "markdown",
   "id": "4d316f80",
   "metadata": {},
   "source": [
    "### 3.2 Construindo o problema"
   ]
  },
  {
   "cell_type": "code",
   "execution_count": 7,
   "id": "884048e9",
   "metadata": {},
   "outputs": [],
   "source": [
    "# Definindo o problema\n",
    "problema = pulp.LpProblem('Dimensionamento_onibus', pulp.LpMinimize)"
   ]
  },
  {
   "cell_type": "code",
   "execution_count": null,
   "id": "0312d0f3",
   "metadata": {},
   "outputs": [],
   "source": [
    "# Criando as variáveis de decisão\n",
    "des_vars = []\n",
    "\n",
    "for rownum, row in df.iterrows():\n",
    "            variablestr_1 = str('Pfc' + str(rownum)) \n",
    "            variablestr_2 = str('Pb' + str(rownum)) \n",
    "            \n",
    "            variable_1 = pulp.LpVariable(str(variablestr_1), lowBound = 0, cat= 'Continuous') \n",
    "            variable_2 = pulp.LpVariable(str(variablestr_2), lowBound = 0, cat= 'Continuous') \n",
    "            \n",
    "            des_vars.append(variable_1)\n",
    "            des_vars.append(variable_2)\n",
    "            \n",
    "            \n",
    "print (\"Número total de variáveis de decisão: \" + str(len(des_vars)))"
   ]
  },
  {
   "cell_type": "code",
   "execution_count": null,
   "id": "0a3e6fe7",
   "metadata": {},
   "outputs": [],
   "source": [
    "# Criando função objetivo\n",
    "custo_total = ''\n",
    "\n",
    "for i in range(0,len(des_vars), 2):\n",
    "    \n",
    "    custo_total += Cfc*des_vars[i] + Cbt*des_vars[i+1]\n",
    "\n",
    "problema += custo_total"
   ]
  },
  {
   "cell_type": "code",
   "execution_count": null,
   "id": "8e175a45",
   "metadata": {},
   "outputs": [],
   "source": [
    "# Restrições\n",
    "pot_total = ''\n",
    "demanda_total = 0\n",
    "\n",
    "for i in range(0,len(des_vars), 2):\n",
    "\n",
    "    pot_total += des_vars[i] + \\\n",
    "                 des_vars[i+1] - \\\n",
    "                 (2.5*des_vars[i] + 5.6/32.242*des_vars[i+1])*g*Cr - \\\n",
    "                 (2.5*des_vars[i] + 5.6/32.242*des_vars[i+1])*df['acc'][(i/2)]\n",
    "    \n",
    "    demanda_total += df['pot'][(i/2)] "
   ]
  },
  {
   "cell_type": "code",
   "execution_count": null,
   "id": "3e525761",
   "metadata": {},
   "outputs": [],
   "source": [
    "resultado = problema.solve(pulp.GLPK(msg = 0))\n",
    "assert resultado == pulp.LpStatusOptimal\n",
    "print(\"Status:\", pulp.LpStatus[problema.status])\n",
    "print(\"solução ótima: \", pulp.value(problema.objective))"
   ]
  },
  {
   "cell_type": "code",
   "execution_count": null,
   "id": "d73de454",
   "metadata": {},
   "outputs": [],
   "source": []
  }
 ],
 "metadata": {
  "kernelspec": {
   "display_name": "Python 3",
   "language": "python",
   "name": "python3"
  },
  "language_info": {
   "codemirror_mode": {
    "name": "ipython",
    "version": 3
   },
   "file_extension": ".py",
   "mimetype": "text/x-python",
   "name": "python",
   "nbconvert_exporter": "python",
   "pygments_lexer": "ipython3",
   "version": "3.8.8"
  }
 },
 "nbformat": 4,
 "nbformat_minor": 5
}
