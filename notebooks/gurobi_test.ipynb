{
 "cells": [
  {
   "cell_type": "code",
   "execution_count": 7,
   "id": "ea5154cb",
   "metadata": {},
   "outputs": [],
   "source": [
    "import gurobipy as gp\n",
    "from gurobipy import GRB\n",
    "\n",
    "import pandas as pd\n",
    "\n",
    "import matplotlib\n",
    "import matplotlib.pyplot as plt\n",
    "\n",
    "from pylab import *"
   ]
  },
  {
   "cell_type": "markdown",
   "id": "aa847f91",
   "metadata": {},
   "source": [
    "## Input Data\n",
    "\n",
    "We define all the input data of the model.\n",
    "\n",
    "### Parameter\n",
    "\n",
    "$\\text{shiftRequirements}(s) \\in \\mathbb{N}$: This parameter represents the number of workers required at each shift \n",
    "$s \\in \\text{shifts}$."
   ]
  },
  {
   "cell_type": "code",
   "execution_count": 8,
   "id": "d1d2213e",
   "metadata": {},
   "outputs": [],
   "source": [
    "# Number of workers required for each shift.\n",
    "shifts, shiftRequirements = gp.multidict({\n",
    "  \"Mon1\":  3,\n",
    "  \"Tue2\":  2,\n",
    "  \"Wed3\":  4,\n",
    "  \"Thu4\":  4,\n",
    "  \"Fri5\":  5,\n",
    "  \"Sat6\":  6,\n",
    "  \"Sun7\":  5,\n",
    "  \"Mon8\":  2,\n",
    "  \"Tue9\":  2,\n",
    "  \"Wed10\": 3,\n",
    "  \"Thu11\": 4,\n",
    "  \"Fri12\": 6,\n",
    "  \"Sat13\": 7,\n",
    "  \"Sun14\": 5 })"
   ]
  },
  {
   "cell_type": "markdown",
   "id": "c629ba78",
   "metadata": {},
   "source": [
    "### Parameter\n",
    "\n",
    "$pay(w) \\in \\mathbb{R^{+}}$: This parameter is the salary per day of each worker $w \\in workers$. "
   ]
  },
  {
   "cell_type": "code",
   "execution_count": 13,
   "id": "1a46f97b",
   "metadata": {},
   "outputs": [],
   "source": [
    "# Amount each worker is paid to work one shift.\n",
    "workers, pay = gp.multidict({\n",
    "  \"Amy\":   10,\n",
    "  \"Bob\":   12,\n",
    "  \"Cathy\": 10,\n",
    "  \"Dan\":   8,\n",
    "  \"Ed\":    8,\n",
    "  \"Fred\":  9,\n",
    "  \"Gu\":    11 })"
   ]
  },
  {
   "cell_type": "markdown",
   "id": "7ee766be",
   "metadata": {},
   "source": [
    "### Set\n",
    "\n",
    "$availability= \\{(w,s): w \\in workers \\; \\text{is available for} \\; s \\in \\text{shifts} \\}$: This set determines that the employed worker  $w$ is available to work on shift $s$."
   ]
  },
  {
   "cell_type": "code",
   "execution_count": 16,
   "id": "ad423ed8",
   "metadata": {},
   "outputs": [],
   "source": [
    "# Worker availability: defines on which day each employed worker is available.\n",
    "\n",
    "availability = gp.tuplelist([\n",
    "('Amy', 'Tue2'), ('Amy', 'Wed3'), ('Amy', 'Fri5'), ('Amy', 'Sun7'),\n",
    "('Amy', 'Tue9'), ('Amy', 'Wed10'), ('Amy', 'Thu11'), ('Amy', 'Fri12'),\n",
    "('Amy', 'Sat13'), ('Amy', 'Sun14'), ('Bob', 'Mon1'), ('Bob', 'Tue2'),\n",
    "('Bob', 'Fri5'), ('Bob', 'Sat6'), ('Bob', 'Mon8'), ('Bob', 'Thu11'),\n",
    "('Bob', 'Sat13'), ('Cathy', 'Wed3'), ('Cathy', 'Thu4'), ('Cathy', 'Fri5'),\n",
    "('Cathy', 'Sun7'), ('Cathy', 'Mon8'), ('Cathy', 'Tue9'), ('Cathy', 'Wed10'),\n",
    "('Cathy', 'Thu11'), ('Cathy', 'Fri12'), ('Cathy', 'Sat13'),\n",
    "('Cathy', 'Sun14'), ('Dan', 'Tue2'), ('Dan', 'Wed3'), ('Dan', 'Fri5'),\n",
    "('Dan', 'Sat6'), ('Dan', 'Mon8'), ('Dan', 'Tue9'), ('Dan', 'Wed10'),\n",
    "('Dan', 'Thu11'), ('Dan', 'Fri12'), ('Dan', 'Sat13'), ('Dan', 'Sun14'),\n",
    "('Ed', 'Mon1'), ('Ed', 'Tue2'), ('Ed', 'Wed3'), ('Ed', 'Thu4'),\n",
    "('Ed', 'Fri5'), ('Ed', 'Sun7'), ('Ed', 'Mon8'), ('Ed', 'Tue9'),\n",
    "('Ed', 'Thu11'), ('Ed', 'Sat13'), ('Ed', 'Sun14'), ('Fred', 'Mon1'),\n",
    "('Fred', 'Tue2'), ('Fred', 'Wed3'), ('Fred', 'Sat6'), ('Fred', 'Mon8'),\n",
    "('Fred', 'Tue9'), ('Fred', 'Fri12'), ('Fred', 'Sat13'), ('Fred', 'Sun14'),\n",
    "('Gu', 'Mon1'), ('Gu', 'Tue2'), ('Gu', 'Wed3'), ('Gu', 'Fri5'),\n",
    "('Gu', 'Sat6'), ('Gu', 'Sun7'), ('Gu', 'Mon8'), ('Gu', 'Tue9'),\n",
    "('Gu', 'Wed10'), ('Gu', 'Thu11'), ('Gu', 'Fri12'), ('Gu', 'Sat13'),\n",
    "('Gu', 'Sun14')\n",
    "])"
   ]
  },
  {
   "cell_type": "markdown",
   "id": "cda3f5bb",
   "metadata": {},
   "source": [
    "## Model Deployment"
   ]
  },
  {
   "cell_type": "code",
   "execution_count": 17,
   "id": "121eaa35",
   "metadata": {},
   "outputs": [
    {
     "name": "stdout",
     "output_type": "stream",
     "text": [
      "Set parameter Username\n",
      "Academic license - for non-commercial use only - expires 2022-04-12\n"
     ]
    }
   ],
   "source": [
    "# Create initial model.\n",
    "m = gp.Model(\"workforce5\")"
   ]
  },
  {
   "cell_type": "markdown",
   "id": "60e12eb3",
   "metadata": {},
   "source": [
    "### Decision Variables\n",
    "\n",
    "$x(w,s) \\in \\{0,1\\}$: This variable equals 1 if worker $w \\in workers$ is assigned to shift $s \\in \\text{shifts}$, \n",
    "and 0 otherwise.\n",
    "This decision variable is defined over the $availability$ set.\n",
    "\n",
    "$Slack(s) \\geq 0$: This variable is the number of extra workers required to satisfy the requirements of shift $s$."
   ]
  },
  {
   "cell_type": "markdown",
   "id": "00f6bd4c",
   "metadata": {},
   "source": [
    "### Decision Variables\n",
    "\n",
    "$x(w,s) \\in \\{0,1\\}$: This variable equals 1 if worker $w \\in workers$ is assigned to shift $s \\in \\text{shifts}$, \n",
    "and 0 otherwise.\n",
    "This decision variable is defined over the $availability$ set.\n",
    "\n",
    "$Slack(s) \\geq 0$: This variable is the number of extra workers required to satisfy the requirements of shift $s$."
   ]
  },
  {
   "cell_type": "code",
   "execution_count": 19,
   "id": "a8951405",
   "metadata": {},
   "outputs": [],
   "source": [
    "# Initialize assignment decision variables.\n",
    "\n",
    "x = m.addVars(availability, vtype=GRB.BINARY, name=\"x\")"
   ]
  },
  {
   "cell_type": "code",
   "execution_count": 20,
   "id": "9e49cbfc",
   "metadata": {},
   "outputs": [],
   "source": [
    "# Slack decision variables determine the number of extra workers required to satisfy the requirements \n",
    "# of each shift\n",
    "slacks = m.addVars(shifts, name=\"Slack\")"
   ]
  },
  {
   "cell_type": "markdown",
   "id": "9c99e2c0",
   "metadata": {},
   "source": [
    "### Auxiliary Variables\n",
    "Auxiliary variables are derived from the values of the decision variables.\n",
    "\n",
    "$totSlack$: This variable counts the total number of extra workers required to satisfy the demand for shift workers.\n",
    "\n",
    "$\\text{totShifts}(w)$: This variable counts the total number of shifts worked by each worker $w \\in workers$.\n",
    "\n",
    "$\\text{minShift}$: This variable determines the minimum number of shifts allocated to workers. \n",
    "\n",
    "$\\text{maxShift}$: This variable  determines the maximum number of shifts allocated to workers."
   ]
  },
  {
   "cell_type": "code",
   "execution_count": 21,
   "id": "8b2ebdd9",
   "metadata": {},
   "outputs": [],
   "source": [
    "# Auxiliary variable totSlack to represent the total number of extra workers required to satisfy the \n",
    "# requirements of all the shifts.\n",
    "totSlack = m.addVar(name='totSlack')"
   ]
  },
  {
   "cell_type": "code",
   "execution_count": 22,
   "id": "6b48791f",
   "metadata": {},
   "outputs": [],
   "source": [
    "# Auxiliary variable totShifts counts the total shifts worked by each employed worker\n",
    "totShifts = m.addVars(workers, name=\"TotShifts\")"
   ]
  },
  {
   "cell_type": "markdown",
   "id": "3adff9a6",
   "metadata": {},
   "source": [
    "### Constraint\n",
    "\n",
    "$$\\sum_{w \\: \\in \\: workers} x(w,s) \\; + \\; Slack(s) \\; = \\; \\text{shiftRequirements}(s) \\; \\; \\; \\forall \\; s \\in shifts $$"
   ]
  },
  {
   "cell_type": "code",
   "execution_count": 23,
   "id": "4856ea8c",
   "metadata": {},
   "outputs": [],
   "source": [
    "# Constraint: All shifts requirements most be satisfied.\n",
    "\n",
    "shift_reqmts = m.addConstrs((x.sum('*',s) + slacks[s] == shiftRequirements[s] for s in shifts), name='shiftRequirement')"
   ]
  },
  {
   "cell_type": "markdown",
   "id": "09ec013b",
   "metadata": {},
   "source": [
    "### Constraint\n",
    "\n",
    "$$ \\sum_{s \\: \\in \\: shifts} Slack(s) \\; = \\; totSlack  $$"
   ]
  },
  {
   "cell_type": "code",
   "execution_count": null,
   "id": "6cd8b36c",
   "metadata": {},
   "outputs": [],
   "source": []
  }
 ],
 "metadata": {
  "kernelspec": {
   "display_name": "Python 3",
   "language": "python",
   "name": "python3"
  },
  "language_info": {
   "codemirror_mode": {
    "name": "ipython",
    "version": 3
   },
   "file_extension": ".py",
   "mimetype": "text/x-python",
   "name": "python",
   "nbconvert_exporter": "python",
   "pygments_lexer": "ipython3",
   "version": "3.8.10"
  }
 },
 "nbformat": 4,
 "nbformat_minor": 5
}
